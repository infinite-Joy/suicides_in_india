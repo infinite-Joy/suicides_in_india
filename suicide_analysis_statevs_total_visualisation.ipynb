{
 "cells": [
  {
   "cell_type": "code",
   "execution_count": 2,
   "metadata": {},
   "outputs": [
    {
     "data": {
      "text/html": [
       "<link rel=\"import\" href=\"/nbextensions/facets-dist/facets-jupyter.html\">\n",
       "        <facets-dive id=\"elem\" height=\"600\"></facets-dive>\n",
       "        <script>\n",
       "          var data = [{\"State\":\"A & N Islands\",\"Total\":8109},{\"State\":\"Andhra Pradesh\",\"Total\":814059},{\"State\":\"Arunachal Pradesh\",\"Total\":6633},{\"State\":\"Assam\",\"Total\":172276},{\"State\":\"Bihar\",\"Total\":46214},{\"State\":\"Chandigarh\",\"Total\":5164},{\"State\":\"Chhattisgarh\",\"Total\":302354},{\"State\":\"D & N Haveli\",\"Total\":3430},{\"State\":\"Daman & Diu\",\"Total\":1391},{\"State\":\"Delhi (Ut)\",\"Total\":84272},{\"State\":\"Goa\",\"Total\":17363},{\"State\":\"Gujarat\",\"Total\":330858},{\"State\":\"Haryana\",\"Total\":147176},{\"State\":\"Himachal Pradesh\",\"Total\":26562},{\"State\":\"Jammu & Kashmir\",\"Total\":14821},{\"State\":\"Jharkhand\",\"Total\":49720},{\"State\":\"Karnataka\",\"Total\":734825},{\"State\":\"Kerala\",\"Total\":538946},{\"State\":\"Lakshadweep\",\"Total\":50},{\"State\":\"Madhya Pradesh\",\"Total\":451535},{\"State\":\"Maharashtra\",\"Total\":901945},{\"State\":\"Manipur\",\"Total\":2102},{\"State\":\"Meghalaya\",\"Total\":5415},{\"State\":\"Mizoram\",\"Total\":4154},{\"State\":\"Nagaland\",\"Total\":1728},{\"State\":\"Odisha\",\"Total\":267234},{\"State\":\"Puducherry\",\"Total\":32144},{\"State\":\"Punjab\",\"Total\":46350},{\"State\":\"Rajasthan\",\"Total\":255134},{\"State\":\"Sikkim\",\"Total\":9606},{\"State\":\"Tamil Nadu\",\"Total\":818691},{\"State\":\"Tripura\",\"Total\":45965},{\"State\":\"Uttar Pradesh\",\"Total\":233352},{\"State\":\"Uttarakhand\",\"Total\":18496},{\"State\":\"West Bengal\",\"Total\":849936}];\n",
       "          document.querySelector(\"#elem\").data = data;\n",
       "        </script>"
      ],
      "text/plain": [
       "<IPython.core.display.HTML object>"
      ]
     },
     "metadata": {},
     "output_type": "display_data"
    }
   ],
   "source": [
    "# Display the Dive visualization for this data\n",
    "from IPython.core.display import display, HTML\n",
    "\n",
    "with open('html_file.html') as f:\n",
    "    HTML_TEMPLATE = f.read()\n",
    "\n",
    "html = HTML_TEMPLATE\n",
    "display(HTML(html))"
   ]
  },
  {
   "cell_type": "code",
   "execution_count": null,
   "metadata": {
    "collapsed": true
   },
   "outputs": [],
   "source": []
  }
 ],
 "metadata": {
  "kernelspec": {
   "display_name": "Python 3",
   "language": "python",
   "name": "python3"
  },
  "language_info": {
   "codemirror_mode": {
    "name": "ipython",
    "version": 3
   },
   "file_extension": ".py",
   "mimetype": "text/x-python",
   "name": "python",
   "nbconvert_exporter": "python",
   "pygments_lexer": "ipython3",
   "version": "3.6.1"
  }
 },
 "nbformat": 4,
 "nbformat_minor": 2
}
