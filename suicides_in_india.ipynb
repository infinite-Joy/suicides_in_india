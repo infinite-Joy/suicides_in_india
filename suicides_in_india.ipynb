{
 "cells": [
  {
   "cell_type": "code",
   "execution_count": 2,
   "metadata": {},
   "outputs": [
    {
     "name": "stdout",
     "output_type": "stream",
     "text": [
      "           State  Year Type_code                                     Type  \\\n",
      "0  A & N Islands  2001    Causes                       Illness (Aids/STD)   \n",
      "1  A & N Islands  2001    Causes  Bankruptcy or Sudden change in Economic   \n",
      "2  A & N Islands  2001    Causes  Cancellation/Non-Settlement of Marriage   \n",
      "3  A & N Islands  2001    Causes        Physical Abuse (Rape/Incest Etc.)   \n",
      "4  A & N Islands  2001    Causes                            Dowry Dispute   \n",
      "\n",
      "   Gender Age_group  Total  \n",
      "0  Female      0-14      0  \n",
      "1  Female      0-14      0  \n",
      "2  Female      0-14      0  \n",
      "3  Female      0-14      0  \n",
      "4  Female      0-14      0  \n"
     ]
    }
   ],
   "source": [
    "import pandas as pd\n",
    "\n",
    "data = './suicides.csv'\n",
    "df = pd.read_csv(data)\n",
    "print(df.head())"
   ]
  },
  {
   "cell_type": "code",
   "execution_count": 4,
   "metadata": {},
   "outputs": [
    {
     "data": {
      "text/html": [
       "<div>\n",
       "<style>\n",
       "    .dataframe thead tr:only-child th {\n",
       "        text-align: right;\n",
       "    }\n",
       "\n",
       "    .dataframe thead th {\n",
       "        text-align: left;\n",
       "    }\n",
       "\n",
       "    .dataframe tbody tr th {\n",
       "        vertical-align: top;\n",
       "    }\n",
       "</style>\n",
       "<table border=\"1\" class=\"dataframe\">\n",
       "  <thead>\n",
       "    <tr style=\"text-align: right;\">\n",
       "      <th></th>\n",
       "      <th>Year</th>\n",
       "      <th>Total</th>\n",
       "    </tr>\n",
       "  </thead>\n",
       "  <tbody>\n",
       "    <tr>\n",
       "      <th>count</th>\n",
       "      <td>237519.000000</td>\n",
       "      <td>237519.000000</td>\n",
       "    </tr>\n",
       "    <tr>\n",
       "      <th>mean</th>\n",
       "      <td>2006.500448</td>\n",
       "      <td>55.034477</td>\n",
       "    </tr>\n",
       "    <tr>\n",
       "      <th>std</th>\n",
       "      <td>3.452240</td>\n",
       "      <td>792.749038</td>\n",
       "    </tr>\n",
       "    <tr>\n",
       "      <th>min</th>\n",
       "      <td>2001.000000</td>\n",
       "      <td>0.000000</td>\n",
       "    </tr>\n",
       "    <tr>\n",
       "      <th>25%</th>\n",
       "      <td>2004.000000</td>\n",
       "      <td>0.000000</td>\n",
       "    </tr>\n",
       "    <tr>\n",
       "      <th>50%</th>\n",
       "      <td>2007.000000</td>\n",
       "      <td>0.000000</td>\n",
       "    </tr>\n",
       "    <tr>\n",
       "      <th>75%</th>\n",
       "      <td>2010.000000</td>\n",
       "      <td>6.000000</td>\n",
       "    </tr>\n",
       "    <tr>\n",
       "      <th>max</th>\n",
       "      <td>2012.000000</td>\n",
       "      <td>63343.000000</td>\n",
       "    </tr>\n",
       "  </tbody>\n",
       "</table>\n",
       "</div>"
      ],
      "text/plain": [
       "                Year          Total\n",
       "count  237519.000000  237519.000000\n",
       "mean     2006.500448      55.034477\n",
       "std         3.452240     792.749038\n",
       "min      2001.000000       0.000000\n",
       "25%      2004.000000       0.000000\n",
       "50%      2007.000000       0.000000\n",
       "75%      2010.000000       6.000000\n",
       "max      2012.000000   63343.000000"
      ]
     },
     "execution_count": 4,
     "metadata": {},
     "output_type": "execute_result"
    }
   ],
   "source": [
    "df.describe()"
   ]
  },
  {
   "cell_type": "markdown",
   "metadata": {},
   "source": [
    "Lets see for which states do we have the data."
   ]
  },
  {
   "cell_type": "code",
   "execution_count": 5,
   "metadata": {},
   "outputs": [
    {
     "name": "stdout",
     "output_type": "stream",
     "text": [
      "               State   Total\n",
      "0      A & N Islands    8109\n",
      "1     Andhra Pradesh  814059\n",
      "2  Arunachal Pradesh    6633\n",
      "3              Assam  172276\n",
      "4              Bihar   46214\n"
     ]
    }
   ],
   "source": [
    "# Groupby states\n",
    "df_state = df.drop('Year', axis=1)\n",
    "df_state = df_state.groupby('State', as_index=False).agg({'Total': 'sum'})\n",
    "print(df_state.head())"
   ]
  },
  {
   "cell_type": "code",
   "execution_count": 6,
   "metadata": {},
   "outputs": [
    {
     "name": "stdout",
     "output_type": "stream",
     "text": [
      "Dropping the non relevant fields\n",
      "Shape before dropping the fields (38, 2)\n",
      "Shape after dropping the fields (35, 2)\n"
     ]
    }
   ],
   "source": [
    "print('Dropping the non relevant fields')\n",
    "print('Shape before dropping the fields {}'.format(df_state.shape))\n",
    "\n",
    "df_state = df_state.drop(df_state.index[df_state.State == 'Total (All India)'])\n",
    "df_state = df_state.drop(df_state.index[df_state.State == 'Total (States)'])\n",
    "df_state = df_state.drop(df_state.index[df_state.State == 'Total (Uts)'])\n",
    "\n",
    "print('Shape after dropping the fields {}'.format(df_state.shape))"
   ]
  },
  {
   "cell_type": "code",
   "execution_count": 7,
   "metadata": {},
   "outputs": [
    {
     "name": "stdout",
     "output_type": "stream",
     "text": [
      "Changing to jsonstr to feed to html file\n",
      "[{\"State\":\"A & N Islands\",\"Total\":8109},{\"State\":\"Andhra Pradesh\",\"Total\":814059},{\"State\":\"Arunachal Pradesh\",\"Total\":6633},{\"State\":\"Assam\",\"Total\":172276},{\"State\":\"Bihar\",\"Total\":46214},{\"State\":\"Chandigarh\",\"Total\":5164},{\"State\":\"Chhattisgarh\",\"Total\":302354},{\"State\":\"D & N Haveli\",\"Total\":3430},{\"State\":\"Daman & Diu\",\"Total\":1391},{\"State\":\"Delhi (Ut)\",\"Total\":84272},{\"State\":\"Goa\",\"Total\":17363},{\"State\":\"Gujarat\",\"Total\":330858},{\"State\":\"Haryana\",\"Total\":147176},{\"State\":\"Himachal Pradesh\",\"Total\":26562},{\"State\":\"Jammu & Kashmir\",\"Total\":14821},{\"State\":\"Jharkhand\",\"Total\":49720},{\"State\":\"Karnataka\",\"Total\":734825},{\"State\":\"Kerala\",\"Total\":538946},{\"State\":\"Lakshadweep\",\"Total\":50},{\"State\":\"Madhya Pradesh\",\"Total\":451535},{\"State\":\"Maharashtra\",\"Total\":901945},{\"State\":\"Manipur\",\"Total\":2102},{\"State\":\"Meghalaya\",\"Total\":5415},{\"State\":\"Mizoram\",\"Total\":4154},{\"State\":\"Nagaland\",\"Total\":1728},{\"State\":\"Odisha\",\"Total\":267234},{\"State\":\"Puducherry\",\"Total\":32144},{\"State\":\"Punjab\",\"Total\":46350},{\"State\":\"Rajasthan\",\"Total\":255134},{\"State\":\"Sikkim\",\"Total\":9606},{\"State\":\"Tamil Nadu\",\"Total\":818691},{\"State\":\"Tripura\",\"Total\":45965},{\"State\":\"Uttar Pradesh\",\"Total\":233352},{\"State\":\"Uttarakhand\",\"Total\":18496},{\"State\":\"West Bengal\",\"Total\":849936}]\n",
      "file saved\n"
     ]
    }
   ],
   "source": [
    "print('Changing to jsonstr to feed to html file')\n",
    "jsonstr = df_state.to_json(orient='records')\n",
    "\n",
    "print(jsonstr)\n",
    "\n",
    "# Display the Dive visualization for this data\n",
    "from IPython.core.display import display, HTML\n",
    "\n",
    "HTML_TEMPLATE = \"\"\"<link rel=\"import\" href=\"/nbextensions/facets-dist/facets-jupyter.html\">\n",
    "        <facets-dive id=\"elem\" height=\"600\"></facets-dive>\n",
    "        <script>\n",
    "          var data = {jsonstr};\n",
    "          document.querySelector(\"#elem\").data = data;\n",
    "        </script>\"\"\"\n",
    "html = HTML_TEMPLATE.format(jsonstr=jsonstr)\n",
    "out = HTML(html).data\n",
    "\n",
    "# write the html to a file\n",
    "with open('html_file.html', 'w') as f:\n",
    "    f.write(out)\n",
    "print('file saved')"
   ]
  }
 ],
 "metadata": {
  "kernelspec": {
   "display_name": "Python (venv)",
   "language": "python",
   "name": "venv"
  },
  "language_info": {
   "codemirror_mode": {
    "name": "ipython",
    "version": 3
   },
   "file_extension": ".py",
   "mimetype": "text/x-python",
   "name": "python",
   "nbconvert_exporter": "python",
   "pygments_lexer": "ipython3",
   "version": "3.6.2"
  }
 },
 "nbformat": 4,
 "nbformat_minor": 2
}
